{
 "cells": [
  {
   "cell_type": "code",
   "execution_count": 1,
   "metadata": {},
   "outputs": [],
   "source": [
    "from igraph import Graph\n",
    "from igraph import plot"
   ]
  },
  {
   "cell_type": "code",
   "execution_count": 2,
   "metadata": {},
   "outputs": [
    {
     "name": "stdout",
     "output_type": "stream",
     "text": [
      "IGRAPH D--- 4 4 --\n",
      "+ attr: label (v)\n",
      "+ edges:\n",
      "0->1 2->2 2->3 3->0\n"
     ]
    }
   ],
   "source": [
    "grafo1 = Graph(edges = [(0,1), (2,2), (2,3,), (3,0)], directed = True)\n",
    "grafo1.vs[\"label\"] = range(grafo1.vcount())\n",
    "print(grafo1)"
   ]
  },
  {
   "cell_type": "code",
   "execution_count": 3,
   "metadata": {},
   "outputs": [
    {
     "name": "stdout",
     "output_type": "stream",
     "text": [
      "IGRAPH U--- 4 4 --\n",
      "+ edges:\n",
      "0--1 2--2 2--3 0--3\n"
     ]
    }
   ],
   "source": [
    "grafo2 = Graph(edges = [(0,1), (2,2), (2,3,), (3,0)], directed = False)\n",
    "print(grafo2)"
   ]
  },
  {
   "cell_type": "code",
   "execution_count": 4,
   "metadata": {},
   "outputs": [
    {
     "name": "stdout",
     "output_type": "stream",
     "text": [
      "IGRAPH UN-- 11 4 --\n",
      "+ attr: name (v)\n",
      "+ edges (vertex names):\n",
      "None--None, None--None, None--None, None--None\n"
     ]
    },
    {
     "data": {
      "image/svg+xml": [
       "<?xml version=\"1.0\" encoding=\"UTF-8\"?>\n",
       "<svg xmlns=\"http://www.w3.org/2000/svg\" xmlns:xlink=\"http://www.w3.org/1999/xlink\" width=\"300pt\" height=\"300pt\" viewBox=\"0 0 300 300\" version=\"1.1\">\n",
       "<g id=\"surface2\">\n",
       "<rect x=\"0\" y=\"0\" width=\"300\" height=\"300\" style=\"fill:rgb(100%,100%,100%);fill-opacity:1;stroke:none;\"/>\n",
       "<path style=\"fill:none;stroke-width:1;stroke-linecap:butt;stroke-linejoin:miter;stroke:rgb(26.666667%,26.666667%,26.666667%);stroke-opacity:1;stroke-miterlimit:10;\" d=\"M 205.609375 43.125 L 251.984375 70.9375 \"/>\n",
       "<path style=\"fill:none;stroke-width:1;stroke-linecap:butt;stroke-linejoin:miter;stroke:rgb(26.666667%,26.666667%,26.666667%);stroke-opacity:1;stroke-miterlimit:10;\" d=\"M 125.210938 9.394531 C 125.210938 17.675781 118.496094 24.394531 110.210938 24.394531 C 101.925781 24.394531 95.210938 17.675781 95.210938 9.394531 C 95.210938 1.109375 101.925781 -5.605469 110.210938 -5.605469 C 118.496094 -5.605469 125.210938 1.109375 125.210938 9.394531 \"/>\n",
       "<path style=\"fill:none;stroke-width:1;stroke-linecap:butt;stroke-linejoin:miter;stroke:rgb(26.666667%,26.666667%,26.666667%);stroke-opacity:1;stroke-miterlimit:10;\" d=\"M 99.605469 20 L 152.152344 25.253906 \"/>\n",
       "<path style=\"fill:none;stroke-width:1;stroke-linecap:butt;stroke-linejoin:miter;stroke:rgb(26.666667%,26.666667%,26.666667%);stroke-opacity:1;stroke-miterlimit:10;\" d=\"M 205.609375 43.125 L 152.152344 25.253906 \"/>\n",
       "<path style=\"fill-rule:nonzero;fill:rgb(100%,0%,0%);fill-opacity:1;stroke-width:1;stroke-linecap:butt;stroke-linejoin:miter;stroke:rgb(0%,0%,0%);stroke-opacity:1;stroke-miterlimit:10;\" d=\"M 215.609375 43.125 C 215.609375 48.648438 211.132813 53.125 205.609375 53.125 C 200.085938 53.125 195.609375 48.648438 195.609375 43.125 C 195.609375 37.601563 200.085938 33.125 205.609375 33.125 C 211.132813 33.125 215.609375 37.601563 215.609375 43.125 \"/>\n",
       "<path style=\"fill-rule:nonzero;fill:rgb(100%,0%,0%);fill-opacity:1;stroke-width:1;stroke-linecap:butt;stroke-linejoin:miter;stroke:rgb(0%,0%,0%);stroke-opacity:1;stroke-miterlimit:10;\" d=\"M 261.984375 70.9375 C 261.984375 76.460938 257.507813 80.9375 251.984375 80.9375 C 246.460938 80.9375 241.984375 76.460938 241.984375 70.9375 C 241.984375 65.414063 246.460938 60.9375 251.984375 60.9375 C 257.507813 60.9375 261.984375 65.414063 261.984375 70.9375 \"/>\n",
       "<path style=\"fill-rule:nonzero;fill:rgb(100%,0%,0%);fill-opacity:1;stroke-width:1;stroke-linecap:butt;stroke-linejoin:miter;stroke:rgb(0%,0%,0%);stroke-opacity:1;stroke-miterlimit:10;\" d=\"M 109.605469 20 C 109.605469 25.523438 105.128906 30 99.605469 30 C 94.082031 30 89.605469 25.523438 89.605469 20 C 89.605469 14.476563 94.082031 10 99.605469 10 C 105.128906 10 109.605469 14.476563 109.605469 20 \"/>\n",
       "<path style=\"fill-rule:nonzero;fill:rgb(100%,0%,0%);fill-opacity:1;stroke-width:1;stroke-linecap:butt;stroke-linejoin:miter;stroke:rgb(0%,0%,0%);stroke-opacity:1;stroke-miterlimit:10;\" d=\"M 162.152344 25.253906 C 162.152344 30.777344 157.675781 35.253906 152.152344 35.253906 C 146.628906 35.253906 142.152344 30.777344 142.152344 25.253906 C 142.152344 19.730469 146.628906 15.253906 152.152344 15.253906 C 157.675781 15.253906 162.152344 19.730469 162.152344 25.253906 \"/>\n",
       "<path style=\"fill-rule:nonzero;fill:rgb(100%,0%,0%);fill-opacity:1;stroke-width:1;stroke-linecap:butt;stroke-linejoin:miter;stroke:rgb(0%,0%,0%);stroke-opacity:1;stroke-miterlimit:10;\" d=\"M 122.375 280 C 122.375 285.523438 117.898438 290 112.375 290 C 106.851563 290 102.375 285.523438 102.375 280 C 102.375 274.476563 106.851563 270 112.375 270 C 117.898438 270 122.375 274.476563 122.375 280 \"/>\n",
       "<path style=\"fill-rule:nonzero;fill:rgb(100%,0%,0%);fill-opacity:1;stroke-width:1;stroke-linecap:butt;stroke-linejoin:miter;stroke:rgb(0%,0%,0%);stroke-opacity:1;stroke-miterlimit:10;\" d=\"M 221.484375 277.125 C 221.484375 282.648438 217.007813 287.125 211.484375 287.125 C 205.960938 287.125 201.484375 282.648438 201.484375 277.125 C 201.484375 271.601563 205.960938 267.125 211.484375 267.125 C 217.007813 267.125 221.484375 271.601563 221.484375 277.125 \"/>\n",
       "<path style=\"fill-rule:nonzero;fill:rgb(100%,0%,0%);fill-opacity:1;stroke-width:1;stroke-linecap:butt;stroke-linejoin:miter;stroke:rgb(0%,0%,0%);stroke-opacity:1;stroke-miterlimit:10;\" d=\"M 102.34375 156.917969 C 102.34375 162.441406 97.863281 166.917969 92.34375 166.917969 C 86.820313 166.917969 82.34375 162.441406 82.34375 156.917969 C 82.34375 151.394531 86.820313 146.917969 92.34375 146.917969 C 97.863281 146.917969 102.34375 151.394531 102.34375 156.917969 \"/>\n",
       "<path style=\"fill-rule:nonzero;fill:rgb(100%,0%,0%);fill-opacity:1;stroke-width:1;stroke-linecap:butt;stroke-linejoin:miter;stroke:rgb(0%,0%,0%);stroke-opacity:1;stroke-miterlimit:10;\" d=\"M 197.253906 188.859375 C 197.253906 194.382813 192.777344 198.859375 187.253906 198.859375 C 181.730469 198.859375 177.253906 194.382813 177.253906 188.859375 C 177.253906 183.339844 181.730469 178.859375 187.253906 178.859375 C 192.777344 178.859375 197.253906 183.339844 197.253906 188.859375 \"/>\n",
       "<path style=\"fill-rule:nonzero;fill:rgb(100%,0%,0%);fill-opacity:1;stroke-width:1;stroke-linecap:butt;stroke-linejoin:miter;stroke:rgb(0%,0%,0%);stroke-opacity:1;stroke-miterlimit:10;\" d=\"M 290 181.738281 C 290 187.261719 285.523438 191.738281 280 191.738281 C 274.476563 191.738281 270 187.261719 270 181.738281 C 270 176.21875 274.476563 171.738281 280 171.738281 C 285.523438 171.738281 290 176.21875 290 181.738281 \"/>\n",
       "<path style=\"fill-rule:nonzero;fill:rgb(100%,0%,0%);fill-opacity:1;stroke-width:1;stroke-linecap:butt;stroke-linejoin:miter;stroke:rgb(0%,0%,0%);stroke-opacity:1;stroke-miterlimit:10;\" d=\"M 30 95.363281 C 30 100.886719 25.523438 105.363281 20 105.363281 C 14.476563 105.363281 10 100.886719 10 95.363281 C 10 89.839844 14.476563 85.363281 20 85.363281 C 25.523438 85.363281 30 89.839844 30 95.363281 \"/>\n",
       "<path style=\"fill-rule:nonzero;fill:rgb(100%,0%,0%);fill-opacity:1;stroke-width:1;stroke-linecap:butt;stroke-linejoin:miter;stroke:rgb(0%,0%,0%);stroke-opacity:1;stroke-miterlimit:10;\" d=\"M 40.683594 218.550781 C 40.683594 224.074219 36.207031 228.550781 30.683594 228.550781 C 25.160156 228.550781 20.683594 224.074219 20.683594 218.550781 C 20.683594 213.027344 25.160156 208.550781 30.683594 208.550781 C 36.207031 208.550781 40.683594 213.027344 40.683594 218.550781 \"/>\n",
       "</g>\n",
       "</svg>\n"
      ],
      "text/plain": [
       "<igraph.drawing.Plot at 0x2c4e11df4a8>"
      ]
     },
     "execution_count": 4,
     "metadata": {},
     "output_type": "execute_result"
    }
   ],
   "source": [
    "grafo3 = Graph(directed = False)\n",
    "grafo3.add_vertices(10)\n",
    "grafo3.add_vertex(16)\n",
    "grafo3.add_edges([(0,1), (2,2), (2,3), (3,0)])\n",
    "\n",
    "print(grafo3)\n",
    "plot(grafo3, bbox = (300, 300))"
   ]
  },
  {
   "cell_type": "code",
   "execution_count": 5,
   "metadata": {},
   "outputs": [
    {
     "data": {
      "image/svg+xml": [
       "<?xml version=\"1.0\" encoding=\"UTF-8\"?>\n",
       "<svg xmlns=\"http://www.w3.org/2000/svg\" xmlns:xlink=\"http://www.w3.org/1999/xlink\" width=\"300pt\" height=\"300pt\" viewBox=\"0 0 300 300\" version=\"1.1\">\n",
       "<defs>\n",
       "<g>\n",
       "<symbol overflow=\"visible\" id=\"glyph0-0\">\n",
       "<path style=\"stroke:none;\" d=\"M 1.75 0 L 1.75 -8.75 L 8.75 -8.75 L 8.75 0 Z M 1.96875 -0.21875 L 8.53125 -0.21875 L 8.53125 -8.53125 L 1.96875 -8.53125 Z M 1.96875 -0.21875 \"/>\n",
       "</symbol>\n",
       "<symbol overflow=\"visible\" id=\"glyph0-1\">\n",
       "<path style=\"stroke:none;\" d=\"M -0.0195313 0 L 3.828125 -10.023438 L 5.257813 -10.023438 L 9.359375 0 L 7.847656 0 L 6.679688 -3.035156 L 2.488281 -3.035156 L 1.386719 0 Z M 2.871094 -4.117188 L 6.269531 -4.117188 L 5.222656 -6.890625 C 4.898438 -7.734375 4.664063 -8.425781 4.511719 -8.96875 C 4.382813 -8.324219 4.203125 -7.6875 3.972656 -7.054688 Z M 2.871094 -4.117188 \"/>\n",
       "</symbol>\n",
       "<symbol overflow=\"visible\" id=\"glyph0-2\">\n",
       "<path style=\"stroke:none;\" d=\"M 1.023438 0 L 1.023438 -10.023438 L 4.785156 -10.023438 C 5.546875 -10.019531 6.160156 -9.917969 6.625 -9.71875 C 7.085938 -9.511719 7.449219 -9.199219 7.714844 -8.78125 C 7.976563 -8.355469 8.109375 -7.914063 8.109375 -7.457031 C 8.109375 -7.027344 7.992188 -6.625 7.757813 -6.246094 C 7.523438 -5.867188 7.171875 -5.5625 6.707031 -5.332031 C 7.3125 -5.152344 7.777344 -4.847656 8.105469 -4.421875 C 8.425781 -3.992188 8.589844 -3.488281 8.59375 -2.90625 C 8.589844 -2.4375 8.492188 -2 8.296875 -1.597656 C 8.097656 -1.191406 7.851563 -0.878906 7.5625 -0.664063 C 7.269531 -0.441406 6.902344 -0.277344 6.464844 -0.167969 C 6.019531 -0.0546875 5.480469 0 4.847656 0 Z M 2.351563 -5.8125 L 4.519531 -5.8125 C 5.101563 -5.8125 5.523438 -5.847656 5.78125 -5.925781 C 6.117188 -6.023438 6.371094 -6.191406 6.542969 -6.425781 C 6.710938 -6.65625 6.796875 -6.949219 6.800781 -7.300781 C 6.796875 -7.632813 6.71875 -7.925781 6.5625 -8.179688 C 6.402344 -8.429688 6.171875 -8.601563 5.878906 -8.699219 C 5.578125 -8.789063 5.070313 -8.835938 4.355469 -8.839844 L 2.351563 -8.839844 Z M 2.351563 -1.183594 L 4.847656 -1.183594 C 5.269531 -1.183594 5.570313 -1.199219 5.75 -1.230469 C 6.050781 -1.285156 6.304688 -1.375 6.511719 -1.503906 C 6.714844 -1.628906 6.886719 -1.8125 7.019531 -2.058594 C 7.152344 -2.300781 7.21875 -2.585938 7.21875 -2.90625 C 7.21875 -3.277344 7.121094 -3.601563 6.929688 -3.878906 C 6.738281 -4.152344 6.472656 -4.34375 6.132813 -4.460938 C 5.792969 -4.570313 5.304688 -4.628906 4.667969 -4.628906 L 2.351563 -4.628906 Z M 2.351563 -1.183594 \"/>\n",
       "</symbol>\n",
       "<symbol overflow=\"visible\" id=\"glyph0-3\">\n",
       "<path style=\"stroke:none;\" d=\"M 8.230469 -3.515625 L 9.554688 -3.179688 C 9.277344 -2.089844 8.777344 -1.257813 8.054688 -0.6875 C 7.332031 -0.113281 6.449219 0.167969 5.40625 0.171875 C 4.324219 0.167969 3.445313 -0.046875 2.773438 -0.488281 C 2.09375 -0.925781 1.578125 -1.5625 1.226563 -2.398438 C 0.867188 -3.226563 0.691406 -4.125 0.695313 -5.085938 C 0.691406 -6.128906 0.890625 -7.039063 1.292969 -7.816406 C 1.691406 -8.59375 2.257813 -9.183594 2.996094 -9.585938 C 3.730469 -9.988281 4.542969 -10.1875 5.429688 -10.191406 C 6.425781 -10.1875 7.269531 -9.933594 7.957031 -9.425781 C 8.640625 -8.914063 9.117188 -8.195313 9.386719 -7.273438 L 8.078125 -6.964844 C 7.84375 -7.691406 7.507813 -8.222656 7.066406 -8.558594 C 6.625 -8.890625 6.066406 -9.058594 5.398438 -9.058594 C 4.625 -9.058594 3.984375 -8.871094 3.46875 -8.503906 C 2.953125 -8.128906 2.589844 -7.632813 2.378906 -7.015625 C 2.167969 -6.390625 2.0625 -5.75 2.0625 -5.09375 C 2.0625 -4.234375 2.183594 -3.492188 2.433594 -2.859375 C 2.679688 -2.222656 3.066406 -1.746094 3.59375 -1.433594 C 4.117188 -1.117188 4.6875 -0.960938 5.296875 -0.964844 C 6.039063 -0.960938 6.667969 -1.175781 7.183594 -1.605469 C 7.699219 -2.035156 8.046875 -2.671875 8.230469 -3.515625 Z M 8.230469 -3.515625 \"/>\n",
       "</symbol>\n",
       "<symbol overflow=\"visible\" id=\"glyph0-4\">\n",
       "<path style=\"stroke:none;\" d=\"M 1.078125 0 L 1.078125 -10.023438 L 4.53125 -10.023438 C 5.308594 -10.019531 5.90625 -9.972656 6.316406 -9.878906 C 6.890625 -9.746094 7.378906 -9.503906 7.785156 -9.160156 C 8.3125 -8.710938 8.707031 -8.140625 8.972656 -7.449219 C 9.230469 -6.75 9.363281 -5.957031 9.367188 -5.066406 C 9.363281 -4.300781 9.273438 -3.625 9.097656 -3.039063 C 8.917969 -2.449219 8.691406 -1.964844 8.414063 -1.582031 C 8.136719 -1.195313 7.832031 -0.890625 7.503906 -0.671875 C 7.171875 -0.449219 6.773438 -0.28125 6.304688 -0.171875 C 5.835938 -0.0546875 5.296875 0 4.695313 0 Z M 2.40625 -1.183594 L 4.546875 -1.183594 C 5.207031 -1.183594 5.722656 -1.242188 6.101563 -1.367188 C 6.472656 -1.484375 6.773438 -1.660156 7 -1.886719 C 7.3125 -2.199219 7.558594 -2.621094 7.734375 -3.15625 C 7.910156 -3.683594 7.996094 -4.328125 8 -5.085938 C 7.996094 -6.132813 7.824219 -6.9375 7.480469 -7.5 C 7.132813 -8.0625 6.714844 -8.4375 6.226563 -8.632813 C 5.871094 -8.765625 5.300781 -8.835938 4.511719 -8.839844 L 2.40625 -8.839844 Z M 2.40625 -1.183594 \"/>\n",
       "</symbol>\n",
       "<symbol overflow=\"visible\" id=\"glyph0-5\">\n",
       "<path style=\"stroke:none;\" d=\"M 1.109375 0 L 1.109375 -10.023438 L 8.351563 -10.023438 L 8.351563 -8.839844 L 2.433594 -8.839844 L 2.433594 -5.769531 L 7.976563 -5.769531 L 7.976563 -4.59375 L 2.433594 -4.59375 L 2.433594 -1.183594 L 8.585938 -1.183594 L 8.585938 0 Z M 1.109375 0 \"/>\n",
       "</symbol>\n",
       "<symbol overflow=\"visible\" id=\"glyph0-6\">\n",
       "<path style=\"stroke:none;\" d=\"M 1.148438 0 L 1.148438 -10.023438 L 7.910156 -10.023438 L 7.910156 -8.839844 L 2.476563 -8.839844 L 2.476563 -5.734375 L 7.179688 -5.734375 L 7.179688 -4.554688 L 2.476563 -4.554688 L 2.476563 0 Z M 1.148438 0 \"/>\n",
       "</symbol>\n",
       "<symbol overflow=\"visible\" id=\"glyph0-7\">\n",
       "<path style=\"stroke:none;\" d=\"M 5.769531 -3.929688 L 5.769531 -5.105469 L 10.015625 -5.113281 L 10.015625 -1.394531 C 9.359375 -0.875 8.6875 -0.484375 8 -0.222656 C 7.304688 0.0390625 6.59375 0.167969 5.867188 0.171875 C 4.878906 0.167969 3.984375 -0.0390625 3.183594 -0.460938 C 2.375 -0.878906 1.769531 -1.488281 1.359375 -2.289063 C 0.949219 -3.082031 0.742188 -3.972656 0.746094 -4.960938 C 0.742188 -5.933594 0.945313 -6.84375 1.355469 -7.691406 C 1.761719 -8.535156 2.351563 -9.164063 3.117188 -9.574219 C 3.882813 -9.984375 4.761719 -10.1875 5.761719 -10.191406 C 6.484375 -10.1875 7.140625 -10.070313 7.726563 -9.839844 C 8.308594 -9.601563 8.769531 -9.277344 9.105469 -8.859375 C 9.4375 -8.4375 9.6875 -7.890625 9.863281 -7.21875 L 8.667969 -6.890625 C 8.511719 -7.398438 8.324219 -7.796875 8.105469 -8.09375 C 7.878906 -8.382813 7.5625 -8.617188 7.148438 -8.792969 C 6.734375 -8.96875 6.273438 -9.058594 5.769531 -9.058594 C 5.160156 -9.058594 4.636719 -8.964844 4.195313 -8.78125 C 3.753906 -8.59375 3.394531 -8.351563 3.125 -8.050781 C 2.851563 -7.75 2.644531 -7.417969 2.496094 -7.0625 C 2.238281 -6.4375 2.109375 -5.765625 2.113281 -5.046875 C 2.109375 -4.148438 2.261719 -3.402344 2.574219 -2.800781 C 2.878906 -2.199219 3.328125 -1.75 3.914063 -1.460938 C 4.5 -1.164063 5.125 -1.019531 5.789063 -1.023438 C 6.363281 -1.019531 6.921875 -1.128906 7.472656 -1.355469 C 8.015625 -1.574219 8.429688 -1.8125 8.714844 -2.0625 L 8.714844 -3.929688 Z M 5.769531 -3.929688 \"/>\n",
       "</symbol>\n",
       "</g>\n",
       "</defs>\n",
       "<g id=\"surface8\">\n",
       "<rect x=\"0\" y=\"0\" width=\"300\" height=\"300\" style=\"fill:rgb(100%,100%,100%);fill-opacity:1;stroke:none;\"/>\n",
       "<path style=\"fill:none;stroke-width:1;stroke-linecap:butt;stroke-linejoin:miter;stroke:rgb(26.666667%,26.666667%,26.666667%);stroke-opacity:1;stroke-miterlimit:10;\" d=\"M 126.6875 197.816406 L 152.84375 280 \"/>\n",
       "<path style=\"fill:none;stroke-width:1;stroke-linecap:butt;stroke-linejoin:miter;stroke:rgb(26.666667%,26.666667%,26.666667%);stroke-opacity:1;stroke-miterlimit:10;\" d=\"M 152.84375 280 C 135.164063 260.121094 114.304688 255.886719 90.273438 267.296875 \"/>\n",
       "<path style=\"fill:none;stroke-width:1;stroke-linecap:butt;stroke-linejoin:miter;stroke:rgb(26.666667%,26.666667%,26.666667%);stroke-opacity:1;stroke-miterlimit:10;\" d=\"M 90.273438 267.296875 L 20 209.855469 \"/>\n",
       "<path style=\"fill:none;stroke-width:1;stroke-linecap:butt;stroke-linejoin:miter;stroke:rgb(26.666667%,26.666667%,26.666667%);stroke-opacity:1;stroke-miterlimit:10;\" d=\"M 20 209.855469 L 58.757813 137.265625 \"/>\n",
       "<path style=\"fill:none;stroke-width:1;stroke-linecap:butt;stroke-linejoin:miter;stroke:rgb(26.666667%,26.666667%,26.666667%);stroke-opacity:1;stroke-miterlimit:10;\" d=\"M 126.6875 197.816406 L 58.757813 137.265625 \"/>\n",
       "<path style=\"fill:none;stroke-width:1;stroke-linecap:butt;stroke-linejoin:miter;stroke:rgb(26.666667%,26.666667%,26.666667%);stroke-opacity:1;stroke-miterlimit:10;\" d=\"M 126.6875 197.816406 L 90.273438 267.296875 \"/>\n",
       "<path style=\"fill:none;stroke-width:1;stroke-linecap:butt;stroke-linejoin:miter;stroke:rgb(26.666667%,26.666667%,26.666667%);stroke-opacity:1;stroke-miterlimit:10;\" d=\"M 152.84375 280 C 128.8125 291.40625 107.953125 287.171875 90.273438 267.296875 \"/>\n",
       "<path style=\"fill-rule:nonzero;fill:rgb(100%,0%,0%);fill-opacity:1;stroke-width:1;stroke-linecap:butt;stroke-linejoin:miter;stroke:rgb(0%,0%,0%);stroke-opacity:1;stroke-miterlimit:10;\" d=\"M 136.6875 197.816406 C 136.6875 203.339844 132.210938 207.816406 126.6875 207.816406 C 121.164063 207.816406 116.6875 203.339844 116.6875 197.816406 C 116.6875 192.292969 121.164063 187.816406 126.6875 187.816406 C 132.210938 187.816406 136.6875 192.292969 136.6875 197.816406 \"/>\n",
       "<path style=\"fill-rule:nonzero;fill:rgb(100%,0%,0%);fill-opacity:1;stroke-width:1;stroke-linecap:butt;stroke-linejoin:miter;stroke:rgb(0%,0%,0%);stroke-opacity:1;stroke-miterlimit:10;\" d=\"M 162.84375 280 C 162.84375 285.523438 158.367188 290 152.84375 290 C 147.320313 290 142.84375 285.523438 142.84375 280 C 142.84375 274.476563 147.320313 270 152.84375 270 C 158.367188 270 162.84375 274.476563 162.84375 280 \"/>\n",
       "<path style=\"fill-rule:nonzero;fill:rgb(100%,0%,0%);fill-opacity:1;stroke-width:1;stroke-linecap:butt;stroke-linejoin:miter;stroke:rgb(0%,0%,0%);stroke-opacity:1;stroke-miterlimit:10;\" d=\"M 100.273438 267.296875 C 100.273438 272.816406 95.796875 277.296875 90.273438 277.296875 C 84.75 277.296875 80.273438 272.816406 80.273438 267.296875 C 80.273438 261.773438 84.75 257.296875 90.273438 257.296875 C 95.796875 257.296875 100.273438 261.773438 100.273438 267.296875 \"/>\n",
       "<path style=\"fill-rule:nonzero;fill:rgb(100%,0%,0%);fill-opacity:1;stroke-width:1;stroke-linecap:butt;stroke-linejoin:miter;stroke:rgb(0%,0%,0%);stroke-opacity:1;stroke-miterlimit:10;\" d=\"M 30 209.855469 C 30 215.378906 25.523438 219.855469 20 219.855469 C 14.476563 219.855469 10 215.378906 10 209.855469 C 10 204.332031 14.476563 199.855469 20 199.855469 C 25.523438 199.855469 30 204.332031 30 209.855469 \"/>\n",
       "<path style=\"fill-rule:nonzero;fill:rgb(100%,0%,0%);fill-opacity:1;stroke-width:1;stroke-linecap:butt;stroke-linejoin:miter;stroke:rgb(0%,0%,0%);stroke-opacity:1;stroke-miterlimit:10;\" d=\"M 68.757813 137.265625 C 68.757813 142.789063 64.28125 147.265625 58.757813 147.265625 C 53.234375 147.265625 48.757813 142.789063 48.757813 137.265625 C 48.757813 131.742188 53.234375 127.265625 58.757813 127.265625 C 64.28125 127.265625 68.757813 131.742188 68.757813 137.265625 \"/>\n",
       "<path style=\"fill-rule:nonzero;fill:rgb(100%,0%,0%);fill-opacity:1;stroke-width:1;stroke-linecap:butt;stroke-linejoin:miter;stroke:rgb(0%,0%,0%);stroke-opacity:1;stroke-miterlimit:10;\" d=\"M 290 162.074219 C 290 167.597656 285.523438 172.074219 280 172.074219 C 274.476563 172.074219 270 167.597656 270 162.074219 C 270 156.550781 274.476563 152.074219 280 152.074219 C 285.523438 152.074219 290 156.550781 290 162.074219 \"/>\n",
       "<path style=\"fill-rule:nonzero;fill:rgb(100%,0%,0%);fill-opacity:1;stroke-width:1;stroke-linecap:butt;stroke-linejoin:miter;stroke:rgb(0%,0%,0%);stroke-opacity:1;stroke-miterlimit:10;\" d=\"M 172.136719 20 C 172.136719 25.523438 167.660156 30 162.136719 30 C 156.613281 30 152.136719 25.523438 152.136719 20 C 152.136719 14.476563 156.613281 10 162.136719 10 C 167.660156 10 172.136719 14.476563 172.136719 20 \"/>\n",
       "<g style=\"fill:rgb(0%,0%,0%);fill-opacity:1;\">\n",
       "  <use xlink:href=\"#glyph0-1\" x=\"122.015625\" y=\"204.328125\"/>\n",
       "</g>\n",
       "<g style=\"fill:rgb(0%,0%,0%);fill-opacity:1;\">\n",
       "  <use xlink:href=\"#glyph0-2\" x=\"148.035156\" y=\"286.511719\"/>\n",
       "</g>\n",
       "<g style=\"fill:rgb(0%,0%,0%);fill-opacity:1;\">\n",
       "  <use xlink:href=\"#glyph0-3\" x=\"85.144531\" y=\"273.890625\"/>\n",
       "</g>\n",
       "<g style=\"fill:rgb(0%,0%,0%);fill-opacity:1;\">\n",
       "  <use xlink:href=\"#glyph0-4\" x=\"14.777344\" y=\"216.367188\"/>\n",
       "</g>\n",
       "<g style=\"fill:rgb(0%,0%,0%);fill-opacity:1;\">\n",
       "  <use xlink:href=\"#glyph0-5\" x=\"53.914063\" y=\"143.777344\"/>\n",
       "</g>\n",
       "<g style=\"fill:rgb(0%,0%,0%);fill-opacity:1;\">\n",
       "  <use xlink:href=\"#glyph0-6\" x=\"275.472656\" y=\"168.585938\"/>\n",
       "</g>\n",
       "<g style=\"fill:rgb(0%,0%,0%);fill-opacity:1;\">\n",
       "  <use xlink:href=\"#glyph0-7\" x=\"156.757813\" y=\"26.597656\"/>\n",
       "</g>\n",
       "</g>\n",
       "</svg>\n"
      ],
      "text/plain": [
       "<igraph.drawing.Plot at 0x2c4e11df9e8>"
      ]
     },
     "execution_count": 5,
     "metadata": {},
     "output_type": "execute_result"
    }
   ],
   "source": [
    "grafo4 = Graph(directed = False)\n",
    "grafo4.add_vertices(5)\n",
    "grafo4.add_edges([(0,1), (1,2), (2,3), (3,4), (4,0), (0,2), (2,1)])\n",
    "grafo4.add_vertex(5)\n",
    "grafo4.add_vertex(6)\n",
    "grafo4.vs[\"label\"] = [\"A\", \"B\", \"C\", \"D\", \"E\", \"F\", \"G\"]\n",
    "plot(grafo4, bbox=(300,300))"
   ]
  }
 ],
 "metadata": {
  "kernelspec": {
   "display_name": "Python 3",
   "language": "python",
   "name": "python3"
  },
  "language_info": {
   "codemirror_mode": {
    "name": "ipython",
    "version": 3
   },
   "file_extension": ".py",
   "mimetype": "text/x-python",
   "name": "python",
   "nbconvert_exporter": "python",
   "pygments_lexer": "ipython3",
   "version": "3.7.3"
  }
 },
 "nbformat": 4,
 "nbformat_minor": 4
}
